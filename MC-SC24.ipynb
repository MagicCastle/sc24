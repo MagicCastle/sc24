{
 "cells": [
  {
   "cell_type": "markdown",
   "id": "f15db24a-9707-4863-b3d0-271209d18cfd",
   "metadata": {},
   "source": [
    "## Exercise 1: Deploying your first Magic Castle cluster"
   ]
  },
  {
   "cell_type": "markdown",
   "id": "798a5973-0274-40d7-92ef-dc0b54e78f90",
   "metadata": {},
   "source": [
    "### 1.1. Make sure Terraform is available\n",
    "##### Should you wish to repeat those exercises on your personal computer, first [install Terraform](https://developer.hashicorp.com/terraform/install)."
   ]
  },
  {
   "cell_type": "markdown",
   "id": "a41af69b-a7b6-4938-9224-431c467f99bd",
   "metadata": {},
   "source": [
    "`terraform version`"
   ]
  },
  {
   "cell_type": "markdown",
   "id": "33b4620b-6c2f-496b-823a-46691b4c67c7",
   "metadata": {},
   "source": [
    "### 1.2. Configure your cloud credentials\n",
    "##### cloud-creds.sh is a two-line file containing XX"
   ]
  },
  {
   "cell_type": "markdown",
   "id": "fae69908-32e6-4e87-915c-a731c4ff6e99",
   "metadata": {},
   "source": [
    "`cat cloud-creds.sh`"
   ]
  },
  {
   "cell_type": "markdown",
   "id": "782af877-96a4-45a5-bdaa-522199e8f6e0",
   "metadata": {},
   "source": [
    "`source cloud-creds.sh`"
   ]
  },
  {
   "cell_type": "markdown",
   "id": "51521a86-8d96-4561-a43d-65a1ecc00f6b",
   "metadata": {},
   "source": [
    "### 1.3. Decompress Magic Castle tarball\n",
    "##### Magic Castle tarball was pre-downloaded from the [project release page](https://github.com/ComputeCanada/magic_castle/releases)"
   ]
  },
  {
   "cell_type": "markdown",
   "id": "9a57e2f9-9e12-4a28-8a78-22844d705019",
   "metadata": {},
   "source": [
    "`tar xvf magic_castle*.tar.gz`"
   ]
  },
  {
   "cell_type": "markdown",
   "id": "c00ca31b-1430-4406-a17e-48b0710cad39",
   "metadata": {},
   "source": [
    "### 1.4. Rename the release folder"
   ]
  },
  {
   "cell_type": "markdown",
   "id": "ec86d8b9-946e-41f1-8232-e25f73f88626",
   "metadata": {},
   "source": [
    "`mv magic_castle*/ my-first-cluster/`"
   ]
  },
  {
   "cell_type": "markdown",
   "id": "27ccff30-316d-4521-99bc-5e4b0e0c4227",
   "metadata": {},
   "source": [
    "### 1.5. Move into the release folder"
   ]
  },
  {
   "cell_type": "markdown",
   "id": "065e1c23-104a-4a5f-a78a-c86672383307",
   "metadata": {},
   "source": [
    "`cd my-first-cluster/`"
   ]
  },
  {
   "cell_type": "markdown",
   "id": "4cd6fe62-6f79-4513-9eba-0dee94f3b4b0",
   "metadata": {},
   "source": [
    "### 1.6. Inspect main file"
   ]
  },
  {
   "cell_type": "markdown",
   "id": "1cb12ca2-9cf6-4eed-8e6f-48fa38790f35",
   "metadata": {},
   "source": [
    "`cat -b main.tf`"
   ]
  },
  {
   "cell_type": "markdown",
   "id": "aaffb703-2961-41c9-b941-249fdda538c3",
   "metadata": {},
   "source": [
    "### 1.7. Edit your main.tf file\n",
    "\n",
    "##### Double click on main.tf from the file browser on the left of your notebook. Replace “cluster_name” value by your username (line 12 in main.tf file). Save and quit."
   ]
  },
  {
   "cell_type": "markdown",
   "id": "dd9df1af-e6a4-4bfb-835f-cc45ca25785c",
   "metadata": {},
   "source": [
    "### 1.8. Fetch Terraform plugins"
   ]
  },
  {
   "cell_type": "markdown",
   "id": "30594856-2d98-405d-8c48-7d5981db9535",
   "metadata": {
    "scrolled": true
   },
   "source": [
    "`terraform init`"
   ]
  },
  {
   "cell_type": "markdown",
   "id": "fc96b313-4597-4d9f-9e36-eae6a6714677",
   "metadata": {},
   "source": [
    "### 1.9. Generate the terraform plan\n",
    "##### XX add note on why -out option"
   ]
  },
  {
   "cell_type": "markdown",
   "id": "f941d493-ea26-40b3-9655-b9ff5916a27c",
   "metadata": {
    "scrolled": true
   },
   "source": [
    "`terraform plan -out=my-plan`"
   ]
  },
  {
   "cell_type": "markdown",
   "id": "3153f439-eec6-4242-adb8-662bbc109fcb",
   "metadata": {},
   "source": [
    "### 1.10. Apply the Terraform plan"
   ]
  },
  {
   "cell_type": "markdown",
   "id": "929bb2e2-1461-403a-bb90-343c9a1edc00",
   "metadata": {},
   "source": [
    "`terraform apply my-plan`"
   ]
  },
  {
   "cell_type": "markdown",
   "id": "dcf78458-8a7b-4ca9-8773-d15eb1d8e0fa",
   "metadata": {},
   "source": [
    "##### Note the public ip address in the output of this command. It will be used in the next exercise to connect to your newly deployed cluster. Should you inadvertently lose the ip address, you can run `terraform apply my-plan` again to have it displayed."
   ]
  },
  {
   "cell_type": "markdown",
   "id": "0fe00ec4-5435-41c2-928e-11061e87183e",
   "metadata": {},
   "source": [
    "## Exercise 2: Connecting to your cluster and exploring"
   ]
  },
  {
   "cell_type": "markdown",
   "id": "691100c9-c14e-4d4c-9878-150cdd5bbb06",
   "metadata": {},
   "source": [
    "### 2.1. Connect to your cluster\n",
    "\n",
    "`ssh -A centos@www.xxx.yyy.zzz`\n",
    "\n",
    "Replace www\\.xxx.yyy.zzz with the public ip address obtained in the output of exercise 1.10.\n",
    "\n",
    "### 2.2. Follow the cloud-init configuration log\n",
    "\n",
    "`tail -f /var/log/cloud-init-output.log`\n",
    "\n",
    "### 2.3. Follow Puppet’s agent log\n",
    "\n",
    "`journalctl -u puppet -f`\n",
    "\n",
    "### 2.4. Connect to mgmt1\n",
    "\n",
    "`ssh mgmt1`\n",
    "\n",
    "### 2.5. Repeat 2.2 and 2.3"
   ]
  },
  {
   "cell_type": "markdown",
   "id": "d471dc17-43ec-4baa-bc7f-ce69766a23a7",
   "metadata": {},
   "source": [
    "## Exercise 3: Enabling DNS\n",
    "\n",
    "### 3.1 Edit your main.tf file\n",
    "\n",
    "#### - Double click on main.tf from the file browser on the left of your notebook.\n",
    "\n",
    "#### - Uncomment the dns module\n",
    "\n",
    "````# module \"dns\" {````\\\n",
    "````#   source = \"./dns/cloudflare\"````\\\n",
    "````#   name = module.openstack.cluster_name````\\\n",
    "````#   domain = module.openstack.domain````\\\n",
    "````#   bastions = module.openstack.bastions````\\\n",
    "````#   public_instances = module.openstack.public_instances````\\\n",
    "````#   ssh_private_key = module.openstack.ssh_private_key````\\\n",
    "````#   sudoer_username = module.openstack.accounts.sudoer.username````\\\n",
    "````# }````\n",
    "\n",
    "### &darr;\n",
    "\n",
    "````module \"dns\" {````\\\n",
    "````source = \"./dns/cloudflare\"````\\\n",
    "````name = module.openstack.cluster_name````\\\n",
    "````domain = module.openstack.domain````\\\n",
    "````bastions = module.openstack.bastions````\\\n",
    "````public_instances = module.openstack.public_instances````\\\n",
    "````ssh_private_key = module.openstack.ssh_private_key````\\\n",
    "````sudoer_username = module.openstack.accounts.sudoer.username````\\\n",
    "````}````\n",
    "\n",
    "#### - Uncomment the hostnames output\n",
    "\n",
    "````# output \"hostnames\" {````\\\n",
    "````#   value = module.dns.hostnames````\\\n",
    "````# }````\n",
    "\n",
    "### &darr;\n",
    "\n",
    "````output \"hostnames\" {````\\\n",
    "  ````value = module.dns.hostnames````\\\n",
    "````}````\n",
    "\n",
    "#### Save and quit"
   ]
  },
  {
   "cell_type": "markdown",
   "id": "93af6110-c6e6-4d54-94f0-f186902affbf",
   "metadata": {},
   "source": [
    "### 3.2 Configure your cloud credentials"
   ]
  },
  {
   "cell_type": "markdown",
   "id": "6c5411a5-24a5-4b87-8bc2-a8fb24eacb10",
   "metadata": {},
   "source": [
    "### 3.3 Fetch Terraform missing plugins"
   ]
  },
  {
   "cell_type": "markdown",
   "id": "95dae910-e7b7-40bf-a1b2-893d726d0232",
   "metadata": {},
   "source": [
    "`source cloud-creds.sh`"
   ]
  },
  {
   "cell_type": "markdown",
   "id": "be223550-b9d8-45ef-bd8a-43fa18d7bcf6",
   "metadata": {},
   "source": [
    "### 3.4 Generate the Terraform plan"
   ]
  },
  {
   "cell_type": "markdown",
   "id": "344bdcc6-5079-4df7-9a60-783f55f50903",
   "metadata": {},
   "source": [
    "`terraform init -upgrade`"
   ]
  },
  {
   "cell_type": "markdown",
   "id": "a5710ddc-2007-45d6-aa98-e7b694359bcc",
   "metadata": {},
   "source": [
    "### 3.5 Apply the Terraform plan"
   ]
  },
  {
   "cell_type": "markdown",
   "id": "af24ff17-28af-4e53-878d-381b94182f4c",
   "metadata": {},
   "source": [
    "`terraform plan -out=my-plan`"
   ]
  },
  {
   "cell_type": "markdown",
   "id": "542fe49c-3352-457c-b5e9-a0b1605e031a",
   "metadata": {},
   "source": [
    "`terraform apply my-plan`"
   ]
  },
  {
   "cell_type": "markdown",
   "id": "7dc614ba-7f7c-4f4e-bb74-e3298e2505da",
   "metadata": {},
   "source": [
    "### 3.6 In a terminal, connect to your cluster\n",
    "##### Notice here that the address to connect to your cluster has changed now that we have enabled DNS.\n",
    "\n",
    "`ssh -A centos@yourusername.magiccastle.live`"
   ]
  },
  {
   "cell_type": "markdown",
   "id": "bcf7a931-c0d1-498b-9bb6-36721cdcc871",
   "metadata": {},
   "source": [
    "## Exercise 4: Customizing the environment\n",
    "## Tags"
   ]
  },
  {
   "cell_type": "markdown",
   "id": "6439a732-09bd-4116-ba1e-7e18a9a02b04",
   "metadata": {},
   "source": [
    "### 4.1 Edit your main.tf file\n",
    "\n",
    "#### - Double click on main.tf from the file browser on the left of your notebook.\n",
    "#### - Add a “proxy” tag to login\n",
    "\n",
    "````login = { type = \"...\", tags = [\"login\", \"public\"], count = 1 }````\n",
    "\n",
    "### &darr;\n",
    "\n",
    "````login = { type = \"...\", tags = [\"login\", \"public\", \"proxy\"], count = 1 }````\n",
    "\n",
    "#### Save and quit"
   ]
  },
  {
   "cell_type": "markdown",
   "id": "66286a66-2bf7-44a1-b239-973ba5b98e59",
   "metadata": {},
   "source": [
    "### 4.2 Configure your cloud credentials\n",
    "`source cloud-creds.sh`"
   ]
  },
  {
   "cell_type": "markdown",
   "id": "f97afde3-53ef-46e4-a37d-648339f463b9",
   "metadata": {},
   "source": [
    "### 4.3 Generate the Terraform plan\n",
    "\n",
    "`terraform plan -out=my-plan`"
   ]
  },
  {
   "cell_type": "markdown",
   "id": "8bc307e8-5a7d-4a94-8c19-a6a81dee817d",
   "metadata": {},
   "source": [
    "### 4.4 Apply the Terraform plan\n",
    "`terraform apply my-plan`"
   ]
  },
  {
   "cell_type": "markdown",
   "id": "6b30cdac-52c4-4629-921f-108954a5cba5",
   "metadata": {},
   "source": [
    "## YAML\n",
    "\n",
    "### 4.5 Edit your data.yaml file\n",
    "\n",
    "#### - Double click on main.tf from the file browser on the left of your notebook.\n",
    "\n",
    "#### - Uncomment the following\n",
    "\n",
    "````#motd::content: \"Welcome to my first Magic Castle cluster!\"````\\\n",
    "````#profile::users::ldap::users:````\\\n",
    "````#  alice:````\\\n",
    "````#    passwd: \"a.user.password.easy.to.remember\"````\\\n",
    "````#    groups: ['def-sponsor00']````\n",
    "\n",
    "### &darr;\n",
    "\n",
    "````motd::content: \"Welcome to my first Magic Castle cluster!\"````\\\n",
    "````profile::users::ldap::users:````\\\n",
    "````  alice:````\\\n",
    "````    passwd: \"a.user.password.easy.to.remember\"````\\\n",
    "````    groups: ['def-sponsor00']````\n",
    "\n",
    "#### Save and quit"
   ]
  },
  {
   "cell_type": "markdown",
   "id": "7e98ab68-aafc-4a70-b3f0-37b3f1145153",
   "metadata": {},
   "source": [
    "### 4.6 Configure your cloud credentials\n",
    "`source cloud-creds.sh`"
   ]
  },
  {
   "cell_type": "markdown",
   "id": "e7612746-0981-4a7f-92d5-e57cfa7aafec",
   "metadata": {},
   "source": [
    "### 4.7 Generate the Terraform plan\n",
    "`terraform plan -out=my-plan`"
   ]
  },
  {
   "cell_type": "markdown",
   "id": "04889748-44be-4bb7-aa5c-9e18a22ca244",
   "metadata": {},
   "source": [
    "### 4.8 Apply the Terraform plan\n",
    "`terraform apply my-plan`"
   ]
  },
  {
   "cell_type": "markdown",
   "id": "75b365d9-2594-48d5-95e9-47ec7d09073b",
   "metadata": {},
   "source": [
    "## Exercise 5: Exploring as a user and submitting jobs\n",
    "\n",
    "### 5.1 Connect to your cluster\n",
    "\n",
    "````ssh alice@yourusername.magiccastle.live````\n",
    "\n",
    "### 5.2 Look at available software\n",
    "\n",
    "````module avail````\n",
    "\n",
    "### 5.3 Run an interactive job\n",
    "\n",
    "````salloc````\n",
    "\n",
    "### 5.4 Launch a jupyter notebook"
   ]
  },
  {
   "cell_type": "markdown",
   "id": "18f893a6-f852-4971-acf5-11f9460e6bda",
   "metadata": {},
   "source": [
    "## Exercice 6: Destroying the cluster"
   ]
  },
  {
   "cell_type": "markdown",
   "id": "ecaf10a4-fb30-48ce-b315-81d8da1441d8",
   "metadata": {},
   "source": [
    "### 6.1 Configure your cloud credentials\n",
    "`source cloud-creds.sh`"
   ]
  },
  {
   "cell_type": "markdown",
   "id": "7203f77a-c77f-44db-9c34-e2df9b9a92ca",
   "metadata": {},
   "source": [
    "### 6.2 Destroy the cluster\n",
    "`terraform destroy`"
   ]
  }
 ],
 "metadata": {
  "kernelspec": {
   "display_name": "Z shell",
   "language": "zsh",
   "name": "zsh"
  },
  "language_info": {
   "codemirror_mode": "shell",
   "file_extension": ".zsh",
   "mimetype": "text/x-zsh",
   "name": "zsh",
   "pygments_lexer": "shell",
   "version": "5.7.1"
  }
 },
 "nbformat": 4,
 "nbformat_minor": 5
}
